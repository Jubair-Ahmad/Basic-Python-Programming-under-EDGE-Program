{
  "cells": [
    {
      "cell_type": "markdown",
      "source": [
        "Orientation"
      ],
      "metadata": {
        "id": "TwR_ny25SoLn"
      }
    },
    {
      "cell_type": "markdown",
      "source": [
        "<h1>First Class - 01/12/24</h1>"
      ],
      "metadata": {
        "id": "0uv7VA-jTyr1"
      }
    },
    {
      "cell_type": "code",
      "source": [
        "print('Hello World')\n",
        "print(\"hi\")\n",
        "print('hi' + 'hello')\n",
        "print('hi' + 'hello', end=\" nothing\")"
      ],
      "metadata": {
        "id": "5hv2efNwSqlo",
        "colab": {
          "base_uri": "https://localhost:8080/"
        },
        "outputId": "019131cc-8730-44df-97ef-a2af7397a9ef"
      },
      "execution_count": null,
      "outputs": [
        {
          "output_type": "stream",
          "name": "stdout",
          "text": [
            "Hello World\n",
            "hi\n",
            "hihello\n",
            "hihello nothing"
          ]
        }
      ]
    },
    {
      "cell_type": "markdown",
      "source": [
        "Two Types of functions:\n",
        "1. user defined\n",
        "2. Library Function.\n",
        "\n",
        "Data Type:\n",
        "\n",
        "1.   Numeric - 1,2,3 (int, Float, Double)\n",
        "2.   String\n",
        "3.   List\n",
        "4.   Tuple\n",
        "5.   Dictionary\n",
        "6.   Files\n",
        "7.   Modified Data Type"
      ],
      "metadata": {
        "id": "-qRhF3o8XNWn"
      }
    },
    {
      "cell_type": "markdown",
      "source": [
        "<h1>Second Class</h1>\n",
        "(I missed that one)"
      ],
      "metadata": {
        "id": "ilIkjc_ZGz88"
      }
    },
    {
      "cell_type": "code",
      "source": [
        "x=1\n",
        "y=2\n",
        "print(x+y)\n",
        "\n",
        "x += 3\n",
        "print (x)"
      ],
      "metadata": {
        "colab": {
          "base_uri": "https://localhost:8080/"
        },
        "id": "hT3gakinJcQ6",
        "outputId": "eba58519-8ee6-40eb-936e-e83fd179d80c"
      },
      "execution_count": null,
      "outputs": [
        {
          "output_type": "stream",
          "name": "stdout",
          "text": [
            "3\n",
            "4\n"
          ]
        }
      ]
    },
    {
      "cell_type": "markdown",
      "source": [
        "<h1>Third Class - 09/12/24</h1>\n",
        "Conditionals\n"
      ],
      "metadata": {
        "id": "Lq6M_qnrHGtT"
      }
    },
    {
      "cell_type": "code",
      "source": [
        "a = (int) (input('Enter the mark: '))\n",
        "if a>=80 and a <= 100:\n",
        "    print('A')\n",
        "elif a>=60 and a <= 79:\n",
        "    print('B')\n",
        "elif a>=40 and a <= 59:\n",
        "    print('C')\n",
        "elif a>=0 and a <= 39:\n",
        "    print('F')\n",
        "else: print('Invalid Input')"
      ],
      "metadata": {
        "colab": {
          "base_uri": "https://localhost:8080/"
        },
        "id": "-06p9gj-k5lS",
        "outputId": "b4f53b7e-dcaa-44bf-c5e1-5869eb6b32f1"
      },
      "execution_count": null,
      "outputs": [
        {
          "output_type": "stream",
          "name": "stdout",
          "text": [
            "Enter the mark: 45\n",
            "C\n"
          ]
        }
      ]
    },
    {
      "cell_type": "code",
      "source": [
        "a = (int) (input())\n",
        "b = (int) (input())\n",
        "c = (int) (input())\n",
        "if a==b and a==c and b==c:\n",
        "    print('somobahu')\n",
        "elif a==b and a!=c and b!= c:\n",
        "    print('Somodhibahu')\n",
        "elif a!=b and a!=c and b==c:\n",
        "    print('Somodhibahu')\n",
        "elif a!=b and a==c and b!=c:\n",
        "    print('Somodhibahu')\n",
        "else: print('bishomobahu')"
      ],
      "metadata": {
        "colab": {
          "base_uri": "https://localhost:8080/"
        },
        "id": "SMqbMzkCRgXD",
        "outputId": "45b75404-8a49-46e7-e1a7-5177b81e40c8"
      },
      "execution_count": null,
      "outputs": [
        {
          "output_type": "stream",
          "name": "stdout",
          "text": [
            "25\n",
            "45\n",
            "45\n",
            "Somodhibahu\n"
          ]
        }
      ]
    },
    {
      "cell_type": "code",
      "source": [
        "a = (int) (input())\n",
        "b = (int) (input())\n",
        "c = (int) (input())\n",
        "if a==b and a==c and b==c:\n",
        "      print('somobahu')\n",
        "elif a==b or a==c or b==c:\n",
        "      print('Somodhibahu')\n",
        "else: print('bishomobahu')"
      ],
      "metadata": {
        "colab": {
          "base_uri": "https://localhost:8080/"
        },
        "id": "RLxJgs1WmqjJ",
        "outputId": "1b9fdb7c-035d-4174-c0ca-296cecd1655d"
      },
      "execution_count": null,
      "outputs": [
        {
          "output_type": "stream",
          "name": "stdout",
          "text": [
            "12\n",
            "23\n",
            "1\n",
            "bishomobahu\n"
          ]
        }
      ]
    },
    {
      "cell_type": "code",
      "source": [
        "a = (int) (input())\n",
        "b = (int) (input())\n",
        "c = (int) (input())\n",
        "if a+b>c and b+c>a and c+a:\n",
        "    if a==b and a==c and b==c:\n",
        "        print('somobahu')\n",
        "    elif a==b or a==c or b==c:\n",
        "        print('Somodhibahu')\n",
        "    else: print('bishomobahu')\n",
        "else: print('Not a Triangle')"
      ],
      "metadata": {
        "id": "ZNUULvw5KxUC",
        "colab": {
          "base_uri": "https://localhost:8080/"
        },
        "outputId": "7a5d0405-34fc-4bb8-80fd-47dff8b6a64d"
      },
      "execution_count": null,
      "outputs": [
        {
          "output_type": "stream",
          "name": "stdout",
          "text": [
            "45\n",
            "46\n",
            "13\n",
            "bishomobahu\n"
          ]
        }
      ]
    },
    {
      "cell_type": "markdown",
      "source": [
        "<h1>4th Class - 11/12/24</h1>"
      ],
      "metadata": {
        "id": "CRz2ry8RZwzy"
      }
    },
    {
      "cell_type": "code",
      "source": [
        "#Leap Year\n",
        "a = (int) (input('Enter the year:'))\n",
        "if (a%4==0 and a%100==1) or (a%400==0):\n",
        "  print(\"Leap year\")\n",
        "else: print('Not a leap year')"
      ],
      "metadata": {
        "colab": {
          "base_uri": "https://localhost:8080/"
        },
        "id": "FRKAjLX1Z_8a",
        "outputId": "4cdd414b-1010-4244-f0a0-72ddcbf3fa92"
      },
      "execution_count": null,
      "outputs": [
        {
          "output_type": "stream",
          "name": "stdout",
          "text": [
            "Enter the year:2000\n",
            "Leap year\n"
          ]
        }
      ]
    },
    {
      "cell_type": "code",
      "source": [
        "#Loop (for)\n",
        "#Tke numbers and make average\n",
        "\n",
        "num=(int) (input('Total number:'))\n",
        "sum=0\n",
        "for x in range(num):\n",
        "  add =(int) (input())\n",
        "  sum= sum+add\n",
        "avg= sum/num\n",
        "print(avg)\n"
      ],
      "metadata": {
        "colab": {
          "base_uri": "https://localhost:8080/"
        },
        "id": "zmqvXS7ip4O-",
        "outputId": "196c821a-f612-4913-b2b0-d66a04f6a4a7"
      },
      "execution_count": null,
      "outputs": [
        {
          "output_type": "stream",
          "name": "stdout",
          "text": [
            "Total number:3\n",
            "150\n",
            "250\n",
            "200\n",
            "200.0\n"
          ]
        }
      ]
    },
    {
      "cell_type": "code",
      "source": [
        "#while need to be cheecked\n",
        "totalnumber = (int) (int())\n",
        "kototomo = 0\n",
        "sum =0\n",
        "\n",
        "while kototomo < totalnumber:\n",
        "  Number =  (int) (input())\n",
        "  sum= sum+Number\n",
        "  kototomo= kototomo+1\n",
        "avg = sum/totalnumber\n",
        "print(avg)"
      ],
      "metadata": {
        "id": "_OKj1jTF8KeG"
      },
      "execution_count": null,
      "outputs": []
    },
    {
      "cell_type": "code",
      "source": [
        "#Check Leap year\n",
        "\n",
        "lower= (int) (input('Starting Year'))\n",
        "upper= (int) (input('Ending Year'))\n",
        "\n",
        "for x in range(lower, upper,1):\n",
        "\n",
        "  if (x%4==0 and x%100!=0) or (x%400==0):\n",
        "    print(x)"
      ],
      "metadata": {
        "colab": {
          "base_uri": "https://localhost:8080/"
        },
        "id": "tsMRxxMU-ZbW",
        "outputId": "aa8d0558-4fd7-41b0-9e9c-65fa090af9cf"
      },
      "execution_count": null,
      "outputs": [
        {
          "output_type": "stream",
          "name": "stdout",
          "text": [
            "Starting Year2000\n",
            "Ending Year2024\n",
            "2000\n",
            "2004\n",
            "2008\n",
            "2012\n",
            "2016\n",
            "2020\n"
          ]
        }
      ]
    },
    {
      "cell_type": "markdown",
      "source": [
        "<h1>5th Class - 13/12/24</h1>"
      ],
      "metadata": {
        "id": "SRUJjlVNC64j"
      }
    },
    {
      "cell_type": "code",
      "source": [
        "#nested loop\n",
        "\n",
        "for i in range(10):\n",
        "  for j in range(5):\n",
        "    print(i,\" \", j)"
      ],
      "metadata": {
        "colab": {
          "base_uri": "https://localhost:8080/"
        },
        "collapsed": true,
        "id": "adzg_gitC6kD",
        "outputId": "a125aed1-a3a8-4918-a639-8ae9f1d1b1a8"
      },
      "execution_count": null,
      "outputs": [
        {
          "output_type": "stream",
          "name": "stdout",
          "text": [
            "0   0\n",
            "0   1\n",
            "0   2\n",
            "0   3\n",
            "0   4\n",
            "1   0\n",
            "1   1\n",
            "1   2\n",
            "1   3\n",
            "1   4\n",
            "2   0\n",
            "2   1\n",
            "2   2\n",
            "2   3\n",
            "2   4\n",
            "3   0\n",
            "3   1\n",
            "3   2\n",
            "3   3\n",
            "3   4\n",
            "4   0\n",
            "4   1\n",
            "4   2\n",
            "4   3\n",
            "4   4\n",
            "5   0\n",
            "5   1\n",
            "5   2\n",
            "5   3\n",
            "5   4\n",
            "6   0\n",
            "6   1\n",
            "6   2\n",
            "6   3\n",
            "6   4\n",
            "7   0\n",
            "7   1\n",
            "7   2\n",
            "7   3\n",
            "7   4\n",
            "8   0\n",
            "8   1\n",
            "8   2\n",
            "8   3\n",
            "8   4\n",
            "9   0\n",
            "9   1\n",
            "9   2\n",
            "9   3\n",
            "9   4\n"
          ]
        }
      ]
    },
    {
      "cell_type": "code",
      "source": [
        "# checking prime\n",
        "\n",
        "num =(int) (input('enter the number:'))\n",
        "count=0\n",
        "for i in range(2,num):\n",
        "  if num%i==0:\n",
        "    count= count+1\n",
        "if count == 0:\n",
        "    print(\"prime number\")\n",
        "else: print(\"Not Prime number\")"
      ],
      "metadata": {
        "colab": {
          "base_uri": "https://localhost:8080/"
        },
        "id": "OaaI9RngFsPF",
        "outputId": "678a88da-81e1-4c9a-d192-40110df71205"
      },
      "execution_count": null,
      "outputs": [
        {
          "output_type": "stream",
          "name": "stdout",
          "text": [
            "enter the number:35\n",
            "Not Prime number\n"
          ]
        }
      ]
    },
    {
      "cell_type": "code",
      "source": [
        "# checking prime\n",
        "\n",
        "num =(int) (input('enter the number:'))\n",
        "count=1\n",
        "for i in range(2,num):\n",
        "  if num%i==0:\n",
        "    count= 0\n",
        "    break\n",
        "if count == 1:\n",
        "    print(\"prime number\")\n",
        "else: print(\"Not Prime number\")"
      ],
      "metadata": {
        "colab": {
          "base_uri": "https://localhost:8080/"
        },
        "id": "-ykTW1rPNV1c",
        "outputId": "58927a07-5718-4b29-a46f-480759cd5586"
      },
      "execution_count": null,
      "outputs": [
        {
          "output_type": "stream",
          "name": "stdout",
          "text": [
            "enter the number:35\n",
            "Not Prime number\n"
          ]
        }
      ]
    },
    {
      "cell_type": "code",
      "source": [
        "start= (int) (input('First Number'))\n",
        "end= (int) (input('Second Number'))\n",
        "\n",
        "for i in range(start, end+1):\n",
        "  if i == 1:\n",
        "    continue\n",
        "  count=1\n",
        "  for j in range(2,i):\n",
        "    if i%j==0:\n",
        "      count= 0\n",
        "      break\n",
        "  if count == 1:\n",
        "      print(i)\n"
      ],
      "metadata": {
        "colab": {
          "base_uri": "https://localhost:8080/"
        },
        "id": "QRh_8vVNPETW",
        "outputId": "861c4504-fa0c-4144-e1b9-36d3bd181b6a"
      },
      "execution_count": null,
      "outputs": [
        {
          "output_type": "stream",
          "name": "stdout",
          "text": [
            "First Number2\n",
            "Second Number12\n",
            "2\n",
            "3\n",
            "5\n",
            "7\n",
            "11\n"
          ]
        }
      ]
    },
    {
      "cell_type": "markdown",
      "source": [
        "<h3>Data Type List</h3>"
      ],
      "metadata": {
        "id": "GJCkpTyLXxXq"
      }
    },
    {
      "cell_type": "code",
      "source": [
        "a= [20, 14 ,25, 22,15]\n",
        "b= list((10, 14 ,25, 22,15))\n",
        "c = [0] * 10\n",
        "\n",
        "print(a)\n",
        "print(b)\n",
        "print(c)\n",
        "\n",
        "a.append(10)\n",
        "b.insert(0,5)\n",
        "\n",
        "print(a)\n",
        "print(b)\n",
        "\n",
        "c.extend(a)\n",
        "print(c)\n"
      ],
      "metadata": {
        "colab": {
          "base_uri": "https://localhost:8080/"
        },
        "id": "E99lzOEIXxEa",
        "outputId": "171160d4-a581-4e63-a21e-515ab7d2b002"
      },
      "execution_count": null,
      "outputs": [
        {
          "output_type": "stream",
          "name": "stdout",
          "text": [
            "[20, 14, 25, 22, 15]\n",
            "[10, 14, 25, 22, 15]\n",
            "[0, 0, 0, 0, 0, 0, 0, 0, 0, 0]\n",
            "[20, 14, 25, 22, 15, 10]\n",
            "[5, 10, 14, 25, 22, 15]\n",
            "[0, 0, 0, 0, 0, 0, 0, 0, 0, 0, 20, 14, 25, 22, 15, 10]\n"
          ]
        }
      ]
    },
    {
      "cell_type": "code",
      "source": [
        "A =[[3, 5, 9],\n",
        "    [5, 6, 6],\n",
        "    [12, 6, 5]]\n",
        "\n",
        "B =[[6, 3, 5],\n",
        "    [2, 3, 4],\n",
        "    [26, 7, 8]]\n",
        "\n",
        "C =[[0, 0, 0],\n",
        "    [0, 0, 0],\n",
        "    [0, 0, 0]]\n",
        "\n",
        "for r in range(len(A)):\n",
        "  for c in range(len(A[r])):\n",
        "    print(A[r][c])\n",
        "\n",
        "#print(A)\n",
        "#print(B)\n",
        "#print(C)\n"
      ],
      "metadata": {
        "colab": {
          "base_uri": "https://localhost:8080/"
        },
        "id": "J-OOF8IYfyPQ",
        "outputId": "cfaff0ad-6cef-44eb-a1ce-b28d410f16f5"
      },
      "execution_count": null,
      "outputs": [
        {
          "output_type": "stream",
          "name": "stdout",
          "text": [
            "3\n",
            "5\n",
            "9\n",
            "5\n",
            "6\n",
            "6\n",
            "12\n",
            "6\n",
            "5\n"
          ]
        }
      ]
    },
    {
      "cell_type": "code",
      "source": [
        "A =[[3, 5, 9],\n",
        "    [5, 6, 6],\n",
        "    [12, 6, 5]]\n",
        "\n",
        "B =[[6, 3, 5],\n",
        "    [2, 3, 4],\n",
        "    [26, 7, 8]]\n",
        "\n",
        "C =[[0, 0, 0],\n",
        "    [0, 0, 0],\n",
        "    [0, 0, 0]]\n",
        "\n",
        "for r in range(len(A)):\n",
        "  for c in range(len(A[r])):\n",
        "\n",
        "    #print(A[r][c])\n",
        "\n",
        "for r in range(len(A)):\n",
        "    for c in range(len(A[r])):\n",
        "    C[r][c] = A[r][c]+ B[r][c]\n",
        "  print(C)\n",
        "Incomplete........."
      ],
      "metadata": {
        "colab": {
          "base_uri": "https://localhost:8080/",
          "height": 106
        },
        "id": "L6Vy1KMNc7zV",
        "outputId": "d27f21c8-f697-4626-a913-98e1558a72df"
      },
      "execution_count": null,
      "outputs": [
        {
          "output_type": "error",
          "ename": "IndentationError",
          "evalue": "expected an indented block after 'for' statement on line 14 (<ipython-input-14-c051c180c046>, line 18)",
          "traceback": [
            "\u001b[0;36m  File \u001b[0;32m\"<ipython-input-14-c051c180c046>\"\u001b[0;36m, line \u001b[0;32m18\u001b[0m\n\u001b[0;31m    for r in range(len(A)):\u001b[0m\n\u001b[0m                           ^\u001b[0m\n\u001b[0;31mIndentationError\u001b[0m\u001b[0;31m:\u001b[0m expected an indented block after 'for' statement on line 14\n"
          ]
        }
      ]
    },
    {
      "cell_type": "markdown",
      "source": [
        "<h1>6th Class - 14/12/24</h1>\n",
        "\n",
        "Tuples and Dictionaries.\n",
        "\n",
        "Tuple's data is not changable.\n",
        "List data changable"
      ],
      "metadata": {
        "id": "8dpN-woLANyf"
      }
    },
    {
      "cell_type": "code",
      "source": [
        "#tuple\n",
        "t1= ('a', 'b', 'c')\n",
        "t2 = tuple(\"xyz\")\n",
        "t3= t1+t2\n",
        "print(t3)\n",
        "\n",
        "#Dictionaries\n",
        "\n",
        "A = {\"name1\": \"Raju\", \"name2\": \"Shaju\"}\n",
        "print(A[\"name1\"])\n",
        "B= dict()\n",
        "B[\"color\"] = \"red\"\n",
        "B[\"color\"] = \"white\"\n",
        "print(B)"
      ],
      "metadata": {
        "colab": {
          "base_uri": "https://localhost:8080/"
        },
        "id": "AUrm_8WGAe6q",
        "outputId": "07d95aef-4ae5-4689-d04f-4efe2b1e3fb2"
      },
      "execution_count": null,
      "outputs": [
        {
          "output_type": "stream",
          "name": "stdout",
          "text": [
            "('a', 'b', 'c', 'x', 'y', 'z')\n",
            "Raju\n",
            "{'color': 'white'}\n"
          ]
        }
      ]
    },
    {
      "cell_type": "code",
      "source": [
        "info = {\"101\": {\"name\": \"A\", \"add\": \"Dhaka\", \"CGPA\": 3.96},\n",
        "        \"102\": {\"name\": \"B\", \"add\": \"Sylhet\", \"CGPA\": 3.40},\n",
        "        \"103\": {\"name\": \"C\", \"add\": \"Dhaka\", \"CGPA\": 3.45},\n",
        "        \"104\": {\"name\": \"D\", \"add\": \"Dhaka\", \"CGPA\": 4.00},\n",
        "        \"105\": {\"name\": \"E\", \"add\": \"Comilla\", \"CGPA\": 2.56},\n",
        "        \"106\": {\"name\": \"F\", \"add\": \"Ctg\", \"CGPA\": 4.00},\n",
        "        \"107\": {\"name\": \"G\", \"add\": \"Sylhet\", \"CGPA\": 2.96},\n",
        "        \"108\": {\"name\": \"H\", \"add\": \"Mymensing\", \"CGPA\": 3.26},\n",
        "        \"109\": {\"name\": \"I\", \"add\": \"Mymensing\", \"CGPA\": 3.56},\n",
        "        }\n",
        "syl=0\n",
        "dha=0\n",
        "com=0\n",
        "my=0\n",
        "\n",
        "for id in info:\n",
        "  if info[id][\"add\"] == \"Sylhet\":\n",
        "    syl=syl+1\n",
        "  elif info[id][\"add\"] == \"Dhaka\":\n",
        "    dha=dha+1\n",
        "  elif info[id][\"add\"] == \"Comilla\":\n",
        "    com=com+1\n",
        "  elif info[id][\"add\"] == \"Mymensing\":\n",
        "    my=my+1\n",
        "\n",
        "print(\"Sylhet: \",syl)\n",
        "print(\"Dhaka: \",dha)\n",
        "print(\"Comilla: \",com)\n",
        "print(\"Mymensing: \",my)"
      ],
      "metadata": {
        "colab": {
          "base_uri": "https://localhost:8080/"
        },
        "id": "7xj6DAEFPJM4",
        "outputId": "f79e0645-49ae-40b9-a488-5c9516d147b1"
      },
      "execution_count": null,
      "outputs": [
        {
          "output_type": "stream",
          "name": "stdout",
          "text": [
            "Sylhet:  2\n",
            "Dhaka:  3\n",
            "Comilla:  1\n",
            "Mymensing:  2\n"
          ]
        }
      ]
    },
    {
      "cell_type": "markdown",
      "source": [
        "<h1>7th Class - 18/12/24</h1>\n",
        "Functions\n",
        "\n",
        "Pass by value- Function transfer value\n",
        "Pass by reference."
      ],
      "metadata": {
        "id": "JBpPhRmqcNSm"
      }
    },
    {
      "cell_type": "code",
      "source": [
        "def circle_area(rad):\n",
        "  rad =3.14*(rad*rad)\n",
        "  return rad"
      ],
      "metadata": {
        "id": "tqxEUFCat0kV"
      },
      "execution_count": null,
      "outputs": []
    },
    {
      "cell_type": "code",
      "source": [
        "rad = (int) (input(\"Enter Enter Radius\"))\n",
        "\n",
        "dd = circle_area(rad)\n",
        "\n",
        "print(dd)"
      ],
      "metadata": {
        "colab": {
          "base_uri": "https://localhost:8080/"
        },
        "id": "8p1TYqWKcYPV",
        "outputId": "ed68997b-cafd-4e46-c71f-3017a649af02"
      },
      "execution_count": null,
      "outputs": [
        {
          "output_type": "stream",
          "name": "stdout",
          "text": [
            "Enter Enter Radius6\n",
            "113.04\n"
          ]
        }
      ]
    },
    {
      "cell_type": "code",
      "source": [
        "def leap_year(yy):\n",
        "  if (yy%4==0 and yy%100==1) or (yy%400==0):\n",
        "    return 1\n",
        "  else: return 0\n"
      ],
      "metadata": {
        "id": "pXdsfoIL0nVm"
      },
      "execution_count": null,
      "outputs": []
    },
    {
      "cell_type": "code",
      "source": [
        "yy = (int) (input(\"Enter Enter the year\"))\n",
        "\n",
        "result = leap_year(yy)\n",
        "\n",
        "print(result)"
      ],
      "metadata": {
        "colab": {
          "base_uri": "https://localhost:8080/"
        },
        "id": "WdDl9LVW2JwO",
        "outputId": "2f1f6a92-d266-4f08-afaa-d550f0f8a685"
      },
      "execution_count": null,
      "outputs": [
        {
          "output_type": "stream",
          "name": "stdout",
          "text": [
            "Enter Enter the year2000\n",
            "1\n"
          ]
        }
      ]
    },
    {
      "cell_type": "markdown",
      "source": [
        "<h1>8th Class - 06/01/24</h1>\n",
        "\n",
        "Function\n",
        "\n",
        "Local scope and global scope\n",
        "\n",
        "recursion?"
      ],
      "metadata": {
        "id": "gIyym2kSUssL"
      }
    },
    {
      "cell_type": "code",
      "source": [
        "def find_ave(data):\n",
        "  sum=0\n",
        "\n",
        "  for x in data:\n",
        "    sum= sum+x\n",
        "\n",
        "  avg= sum/len(data)\n",
        "  return avg\n",
        "\n",
        "result = find_ave([12,25,36,25])\n",
        "\n",
        "print(result)"
      ],
      "metadata": {
        "colab": {
          "base_uri": "https://localhost:8080/"
        },
        "id": "61FTlqoOUyhD",
        "outputId": "eb301fe8-ff3e-433e-e74f-c6d1d1819c13"
      },
      "execution_count": null,
      "outputs": [
        {
          "output_type": "stream",
          "name": "stdout",
          "text": [
            "24.5\n"
          ]
        }
      ]
    },
    {
      "cell_type": "code",
      "source": [
        "def numbers(data):\n",
        "  data(12,25,36)\n",
        "  return data\n",
        "  def num(dd):\n",
        "    dd = data\n",
        "    print(data)\n",
        "  print(num())"
      ],
      "metadata": {
        "id": "mpAK3AiYqjYl"
      },
      "execution_count": null,
      "outputs": []
    },
    {
      "cell_type": "code",
      "source": [
        "def tri_recursion(k):\n",
        "  if(k>0):\n",
        "    result = k+tri_recursion(k-1)\n",
        "    print(result)\n",
        "  else:\n",
        "    result = 0\n",
        "  return result\n",
        "\n",
        "print(\"\\n\\nRecursion Example Results\")\n",
        "tri_recursion(6)"
      ],
      "metadata": {
        "colab": {
          "base_uri": "https://localhost:8080/"
        },
        "id": "C9gq-_Okwsd8",
        "outputId": "e2939b24-b4a5-4409-9aee-80f6f152b1c5"
      },
      "execution_count": null,
      "outputs": [
        {
          "output_type": "stream",
          "name": "stdout",
          "text": [
            "\n",
            "\n",
            "Recursion Example Results\n",
            "1\n",
            "3\n",
            "6\n",
            "10\n",
            "15\n",
            "21\n"
          ]
        },
        {
          "output_type": "execute_result",
          "data": {
            "text/plain": [
              "21"
            ]
          },
          "metadata": {},
          "execution_count": 35
        }
      ]
    },
    {
      "cell_type": "code",
      "source": [
        "def sum(b,c):\n",
        "  a=b+c\n",
        "  print(a)\n",
        "\n",
        "sum(2,3)"
      ],
      "metadata": {
        "colab": {
          "base_uri": "https://localhost:8080/"
        },
        "id": "Mw7-R1lQnwsJ",
        "outputId": "e1035164-5497-41d5-d438-70ac859514bc"
      },
      "execution_count": null,
      "outputs": [
        {
          "output_type": "stream",
          "name": "stdout",
          "text": [
            "5\n"
          ]
        }
      ]
    },
    {
      "cell_type": "code",
      "source": [
        "def my_rec(x):\n",
        "  if x<10:\n",
        "    result = print(\"Yout input\", +x,\" is invalid\")\n",
        "  else: result = print(\"Your input\", +x, \"is Valid\")\n",
        "  return result"
      ],
      "metadata": {
        "id": "b4UYxJgpr3Zs"
      },
      "execution_count": null,
      "outputs": []
    },
    {
      "cell_type": "code",
      "source": [
        "number = (int) (input(\"Enter your Value: \"))\n",
        "my_rec(number)"
      ],
      "metadata": {
        "colab": {
          "base_uri": "https://localhost:8080/"
        },
        "id": "1jV2QCpKvUnl",
        "outputId": "766a1676-a4c7-453d-f71e-df5876ca3ee1"
      },
      "execution_count": null,
      "outputs": [
        {
          "output_type": "stream",
          "name": "stdout",
          "text": [
            "Enter your Value: 23\n",
            "Your input 23 is Valid\n"
          ]
        }
      ]
    },
    {
      "cell_type": "code",
      "source": [
        "def fact(n):\n",
        "  if n==1:\n",
        "    return 1\n",
        "  else:\n",
        "    return n*fact(n-1)"
      ],
      "metadata": {
        "id": "HeR6vCedHejj"
      },
      "execution_count": null,
      "outputs": []
    },
    {
      "cell_type": "code",
      "source": [
        "n = (int) (input(\"Enter your Value: \"))\n",
        "result = fact(n)\n",
        "print(result)"
      ],
      "metadata": {
        "colab": {
          "base_uri": "https://localhost:8080/"
        },
        "id": "MArBQ3G_KO0z",
        "outputId": "548b8feb-5e8d-4541-92e4-875a35e6dd63"
      },
      "execution_count": null,
      "outputs": [
        {
          "output_type": "stream",
          "name": "stdout",
          "text": [
            "Enter your Value: 4\n",
            "24\n"
          ]
        }
      ]
    },
    {
      "cell_type": "markdown",
      "source": [
        "<h1>9th Class - 08/01/24</h1>\n",
        "Modules and Packages.\n"
      ],
      "metadata": {
        "id": "iTpy_aJqnr3x"
      }
    },
    {
      "cell_type": "markdown",
      "source": [
        "<h1>11th Class - 11/01/24</h1>"
      ],
      "metadata": {
        "id": "Z6svmDhKPt62"
      }
    },
    {
      "cell_type": "markdown",
      "source": [
        "Exception Hendling\n",
        "\n",
        "syntex error,\n",
        "logical error,\n",
        "Mathematical error,\n"
      ],
      "metadata": {
        "id": "84iSx2rUQoty"
      }
    },
    {
      "cell_type": "code",
      "source": [
        "#Try And except\n",
        "\n",
        "try:\n",
        "  print(x)\n",
        "except:\n",
        "  print(\"An exception occurred\")"
      ],
      "metadata": {
        "colab": {
          "base_uri": "https://localhost:8080/"
        },
        "id": "w_TxnWM_PzL0",
        "outputId": "b540684f-da67-41ce-ddc4-56e27da296e8"
      },
      "execution_count": null,
      "outputs": [
        {
          "output_type": "stream",
          "name": "stdout",
          "text": [
            "An exception occurred\n"
          ]
        }
      ]
    },
    {
      "cell_type": "markdown",
      "source": [
        "Lindin<br>\n",
        "Git Hub<br>\n",
        "online Market (fiverr)<br>\n",
        "CV<br>\n",
        "\n",
        "Accounts need to be opened.\n",
        "\n",
        "(variable encapsulation should be checked)"
      ],
      "metadata": {
        "id": "YgpDfgvoCoH8"
      }
    },
    {
      "cell_type": "code",
      "source": [
        "#file\n",
        "f = open(\"/content/test.txt\", \"r\")\n",
        "print(f.read())\n",
        "#print(f.readline())\n",
        "#for line in f:\n",
        "#  print(line)\n",
        "f.close()"
      ],
      "metadata": {
        "colab": {
          "base_uri": "https://localhost:8080/"
        },
        "id": "pWEZPKt8InSY",
        "outputId": "1c1f742c-5185-4c33-8a8e-d90da23ac1a0"
      },
      "execution_count": null,
      "outputs": [
        {
          "output_type": "stream",
          "name": "stdout",
          "text": [
            "hello is a text message\n"
          ]
        }
      ]
    },
    {
      "cell_type": "code",
      "source": [
        "f = open(\"/content/write.txt\", \"w\")\n",
        "f.write(\"This is the write command\")\n",
        "f.write(\"It allows us to write in a particular file\")\n",
        "f.close()"
      ],
      "metadata": {
        "id": "NC4bfwNBMe_v"
      },
      "execution_count": null,
      "outputs": []
    }
  ],
  "metadata": {
    "colab": {
      "provenance": []
    },
    "kernelspec": {
      "display_name": "Python 3",
      "name": "python3"
    }
  },
  "nbformat": 4,
  "nbformat_minor": 0
}